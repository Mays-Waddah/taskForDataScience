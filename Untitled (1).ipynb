{
  "metadata": {
    "language_info": {
      "codemirror_mode": {
        "name": "python",
        "version": 3
      },
      "file_extension": ".py",
      "mimetype": "text/x-python",
      "name": "python",
      "nbconvert_exporter": "python",
      "pygments_lexer": "ipython3",
      "version": "3.8"
    },
    "kernelspec": {
      "name": "python",
      "display_name": "Python (Pyodide)",
      "language": "python"
    }
  },
  "nbformat_minor": 4,
  "nbformat": 4,
  "cells": [
    {
      "cell_type": "code",
      "source": "import pandas as pd\nimport matplotlib.pyplot as plt\n\n# Download the IMDB dataset of top 1000 movies and TV shows from Kaggle.\nurl = 'https://raw.githubusercontent.com/datasets/imdb/master/data.csv'\ndf = pd.read_csv(url)\n\n# Clean and preprocess the data by removing unnecessary columns and handling missing values.\ndf = df.drop(columns=['id', 'type', 'votes', 'runtime'])\ndf = df.fillna('')\n\n# Explore the data to identify the most popular genre of movies and TV shows using pandas.\ngenre_count = df.genre.value_counts()\n\n# Create a new dataframe containing the count of movies/TV shows in each genre using pandas.\ngenre_df = pd.DataFrame({'genre': genre_count.index, 'count': genre_count.values})\n\n# Visualize the data using a bar chart to show the most popular genre of movies/TV shows using pandas and the matplotlib library.\nplt.bar(genre_df['genre'], genre_df['count'])\nplt.xlabel('Genre')\nplt.ylabel('Count')\nplt.title('Most Popular Genre of Movies and TV Shows')\nplt.show()\n\n# Identify the director with the most top-rated movies/TV shows by creating a new dataframe containing the count of movies/TV shows directed by each director using pandas.\ndirector_count = df.director.value_counts()\n\n# Visualize the data using a bar chart to show the director with the most top-rated movies/TV shows using pandas and the matplotlib library.\nplt.bar(director_count.index, director_count.values)\nplt.xlabel('Director')\nplt.ylabel('Count')\nplt.title('Director with the Most Top-Rated Movies/TV Shows')\nplt.show()",
      "metadata": {},
      "execution_count": null,
      "outputs": []
    }
  ]
}